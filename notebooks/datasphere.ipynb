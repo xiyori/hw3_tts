{
 "cells": [
  {
   "cell_type": "code",
   "execution_count": 3,
   "id": "48c8416c",
   "metadata": {
    "cellId": "t7j41t6sh5dbzoamuj20vh",
    "execution_id": "cb1b1838-5e84-412a-8b17-917c1f7f5e66"
   },
   "outputs": [
    {
     "name": "stdout",
     "output_type": "stream",
     "text": [
      "Defaulting to user installation because normal site-packages is not writeable\n",
      "Requirement already satisfied: torchaudio in /usr/local/lib/python3.8/dist-packages (from -r requirements.txt (line 1)) (0.9.1)\n",
      "Collecting wandb\n",
      "  Downloading wandb-0.13.5-py2.py3-none-any.whl (1.9 MB)\n",
      "     |████████████████████████████████| 1.9 MB 3.2 MB/s            \n",
      "\u001b[?25hCollecting gdown\n",
      "  Downloading gdown-4.5.4-py3-none-any.whl (14 kB)\n",
      "Collecting unidecode\n",
      "  Downloading Unidecode-1.3.6-py3-none-any.whl (235 kB)\n",
      "     |████████████████████████████████| 235 kB 112.1 MB/s            \n",
      "\u001b[?25hCollecting inflect\n",
      "  Downloading inflect-6.0.2-py3-none-any.whl (34 kB)\n",
      "Requirement already satisfied: librosa in /usr/local/lib/python3.8/dist-packages (from -r requirements.txt (line 6)) (0.8.0)\n",
      "Requirement already satisfied: torch==1.9.1 in /usr/local/lib/python3.8/dist-packages (from torchaudio->-r requirements.txt (line 1)) (1.9.1+cu111)\n",
      "Requirement already satisfied: typing-extensions in /usr/local/lib/python3.8/dist-packages (from torch==1.9.1->torchaudio->-r requirements.txt (line 1)) (3.7.4.3)\n",
      "Requirement already satisfied: GitPython>=1.0.0 in /usr/local/lib/python3.8/dist-packages (from wandb->-r requirements.txt (line 2)) (3.1.24)\n",
      "Requirement already satisfied: PyYAML in /usr/local/lib/python3.8/dist-packages (from wandb->-r requirements.txt (line 2)) (5.3.1)\n",
      "Collecting pathtools\n",
      "  Downloading pathtools-0.1.2.tar.gz (11 kB)\n",
      "  Preparing metadata (setup.py) ... \u001b[?25ldone\n",
      "\u001b[?25hRequirement already satisfied: requests<3,>=2.0.0 in /kernel/lib/python3.8/site-packages (from wandb->-r requirements.txt (line 2)) (2.25.1)\n",
      "Collecting setproctitle\n",
      "  Downloading setproctitle-1.3.2-cp38-cp38-manylinux_2_5_x86_64.manylinux1_x86_64.manylinux_2_17_x86_64.manylinux2014_x86_64.whl (31 kB)\n",
      "Requirement already satisfied: psutil>=5.0.0 in /kernel/lib/python3.8/site-packages (from wandb->-r requirements.txt (line 2)) (5.7.3)\n",
      "Requirement already satisfied: Click!=8.0.0,>=7.0 in /usr/local/lib/python3.8/dist-packages (from wandb->-r requirements.txt (line 2)) (8.0.3)\n",
      "Collecting docker-pycreds>=0.4.0\n",
      "  Downloading docker_pycreds-0.4.0-py2.py3-none-any.whl (9.0 kB)\n",
      "Requirement already satisfied: six>=1.13.0 in /kernel/lib/python3.8/site-packages (from wandb->-r requirements.txt (line 2)) (1.16.0)\n",
      "Requirement already satisfied: promise<3,>=2.0 in /usr/local/lib/python3.8/dist-packages (from wandb->-r requirements.txt (line 2)) (2.3)\n",
      "Requirement already satisfied: setuptools in /kernel/lib/python3.8/site-packages (from wandb->-r requirements.txt (line 2)) (51.0.0)\n",
      "Requirement already satisfied: protobuf!=4.0.*,!=4.21.0,<5,>=3.12.0 in /usr/local/lib/python3.8/dist-packages (from wandb->-r requirements.txt (line 2)) (3.19.1)\n",
      "Collecting sentry-sdk>=1.0.0\n",
      "  Downloading sentry_sdk-1.11.1-py2.py3-none-any.whl (168 kB)\n",
      "     |████████████████████████████████| 168 kB 115.1 MB/s            \n",
      "\u001b[?25hRequirement already satisfied: shortuuid>=0.5.0 in /usr/local/lib/python3.8/dist-packages (from wandb->-r requirements.txt (line 2)) (1.0.8)\n",
      "Requirement already satisfied: beautifulsoup4 in /kernel/lib/python3.8/site-packages (from gdown->-r requirements.txt (line 3)) (4.11.1)\n",
      "Requirement already satisfied: tqdm in /usr/local/lib/python3.8/dist-packages (from gdown->-r requirements.txt (line 3)) (4.50.0)\n",
      "Requirement already satisfied: filelock in /usr/local/lib/python3.8/dist-packages (from gdown->-r requirements.txt (line 3)) (3.4.2)\n",
      "Collecting pydantic>=1.9.1\n",
      "  Downloading pydantic-1.10.2-cp38-cp38-manylinux_2_17_x86_64.manylinux2014_x86_64.whl (13.6 MB)\n",
      "     |████████████████████████████████| 13.6 MB 88.0 MB/s            \n",
      "\u001b[?25hRequirement already satisfied: resampy>=0.2.2 in /usr/local/lib/python3.8/dist-packages (from librosa->-r requirements.txt (line 6)) (0.2.2)\n",
      "Requirement already satisfied: joblib>=0.14 in /usr/local/lib/python3.8/dist-packages (from librosa->-r requirements.txt (line 6)) (1.1.0)\n",
      "Requirement already satisfied: decorator>=3.0.0 in /kernel/lib/python3.8/site-packages (from librosa->-r requirements.txt (line 6)) (5.1.1)\n",
      "Requirement already satisfied: numba>=0.43.0 in /usr/local/lib/python3.8/dist-packages (from librosa->-r requirements.txt (line 6)) (0.51.2)\n",
      "Requirement already satisfied: soundfile>=0.9.0 in /usr/local/lib/python3.8/dist-packages (from librosa->-r requirements.txt (line 6)) (0.10.3.post1)\n",
      "Requirement already satisfied: audioread>=2.0.0 in /usr/local/lib/python3.8/dist-packages (from librosa->-r requirements.txt (line 6)) (2.1.9)\n",
      "Requirement already satisfied: scikit-learn!=0.19.0,>=0.14.0 in /usr/local/lib/python3.8/dist-packages (from librosa->-r requirements.txt (line 6)) (0.22.1)\n",
      "Requirement already satisfied: pooch>=1.0 in /usr/local/lib/python3.8/dist-packages (from librosa->-r requirements.txt (line 6)) (1.5.2)\n",
      "Requirement already satisfied: scipy>=1.0.0 in /usr/local/lib/python3.8/dist-packages (from librosa->-r requirements.txt (line 6)) (1.4.1)\n",
      "Requirement already satisfied: numpy>=1.15.0 in /kernel/fallback/lib/python3.8/site-packages (from librosa->-r requirements.txt (line 6)) (1.19.4)\n",
      "Requirement already satisfied: gitdb<5,>=4.0.1 in /usr/local/lib/python3.8/dist-packages (from GitPython>=1.0.0->wandb->-r requirements.txt (line 2)) (4.0.9)\n",
      "Requirement already satisfied: llvmlite<0.35,>=0.34.0.dev0 in /usr/local/lib/python3.8/dist-packages (from numba>=0.43.0->librosa->-r requirements.txt (line 6)) (0.34.0)\n",
      "Requirement already satisfied: appdirs in /usr/local/lib/python3.8/dist-packages (from pooch>=1.0->librosa->-r requirements.txt (line 6)) (1.4.4)\n",
      "Requirement already satisfied: packaging in /kernel/lib/python3.8/site-packages (from pooch>=1.0->librosa->-r requirements.txt (line 6)) (20.9)\n",
      "Collecting typing-extensions\n",
      "  Downloading typing_extensions-4.4.0-py3-none-any.whl (26 kB)\n",
      "Requirement already satisfied: chardet<5,>=3.0.2 in /kernel/lib/python3.8/site-packages (from requests<3,>=2.0.0->wandb->-r requirements.txt (line 2)) (4.0.0)\n",
      "Requirement already satisfied: urllib3<1.27,>=1.21.1 in /kernel/lib/python3.8/site-packages (from requests<3,>=2.0.0->wandb->-r requirements.txt (line 2)) (1.26.12)\n",
      "Requirement already satisfied: certifi>=2017.4.17 in /kernel/lib/python3.8/site-packages (from requests<3,>=2.0.0->wandb->-r requirements.txt (line 2)) (2022.9.24)\n",
      "Requirement already satisfied: idna<3,>=2.5 in /kernel/lib/python3.8/site-packages (from requests<3,>=2.0.0->wandb->-r requirements.txt (line 2)) (2.10)\n",
      "Requirement already satisfied: cffi>=1.0 in /kernel/lib/python3.8/site-packages (from soundfile>=0.9.0->librosa->-r requirements.txt (line 6)) (1.15.1)\n",
      "Requirement already satisfied: soupsieve>1.2 in /kernel/lib/python3.8/site-packages (from beautifulsoup4->gdown->-r requirements.txt (line 3)) (2.3.2.post1)\n",
      "Collecting PySocks!=1.5.7,>=1.5.6\n",
      "  Downloading PySocks-1.7.1-py3-none-any.whl (16 kB)\n",
      "Requirement already satisfied: pycparser in /kernel/lib/python3.8/site-packages (from cffi>=1.0->soundfile>=0.9.0->librosa->-r requirements.txt (line 6)) (2.21)\n",
      "Requirement already satisfied: smmap<6,>=3.0.1 in /usr/local/lib/python3.8/dist-packages (from gitdb<5,>=4.0.1->GitPython>=1.0.0->wandb->-r requirements.txt (line 2)) (5.0.0)\n",
      "Requirement already satisfied: pyparsing>=2.0.2 in /kernel/lib/python3.8/site-packages (from packaging->pooch>=1.0->librosa->-r requirements.txt (line 6)) (2.4.7)\n",
      "Building wheels for collected packages: pathtools\n",
      "  Building wheel for pathtools (setup.py) ... \u001b[?25ldone\n",
      "\u001b[?25h  Created wheel for pathtools: filename=pathtools-0.1.2-py3-none-any.whl size=8785 sha256=45c38714b30d2e587df5b70363721fa7242312a84647b446c9cfb9a1b40a7d4a\n",
      "  Stored in directory: /tmp/xdg_cache/pip/wheels/4c/8e/7e/72fbc243e1aeecae64a96875432e70d4e92f3d2d18123be004\n",
      "Successfully built pathtools\n",
      "Installing collected packages: typing-extensions, PySocks, setproctitle, sentry-sdk, pydantic, pathtools, docker-pycreds, wandb, unidecode, inflect, gdown\n",
      "\u001b[33m  WARNING: The scripts wandb and wb are installed in '/home/jupyter/.local/bin' which is not on PATH.\n",
      "  Consider adding this directory to PATH or, if you prefer to suppress this warning, use --no-warn-script-location.\u001b[0m\n",
      "\u001b[33m  WARNING: The script unidecode is installed in '/home/jupyter/.local/bin' which is not on PATH.\n",
      "  Consider adding this directory to PATH or, if you prefer to suppress this warning, use --no-warn-script-location.\u001b[0m\n",
      "\u001b[33m  WARNING: The script gdown is installed in '/home/jupyter/.local/bin' which is not on PATH.\n",
      "  Consider adding this directory to PATH or, if you prefer to suppress this warning, use --no-warn-script-location.\u001b[0m\n",
      "\u001b[31mERROR: pip's dependency resolver does not currently take into account all the packages that are installed. This behaviour is the source of the following dependency conflicts.\n",
      "thinc 8.0.13 requires pydantic!=1.8,!=1.8.1,<1.9.0,>=1.7.4, but you have pydantic 1.10.2 which is incompatible.\n",
      "tensorflow 2.6.0 requires six~=1.15.0, but you have six 1.16.0 which is incompatible.\n",
      "tensorflow 2.6.0 requires typing-extensions~=3.7.4, but you have typing-extensions 4.4.0 which is incompatible.\n",
      "tensorflow 2.6.0 requires wrapt~=1.12.1, but you have wrapt 1.14.1 which is incompatible.\n",
      "spacy 3.2.1 requires pydantic!=1.8,!=1.8.1,<1.9.0,>=1.7.4, but you have pydantic 1.10.2 which is incompatible.\u001b[0m\n",
      "Successfully installed PySocks-1.7.1 docker-pycreds-0.4.0 gdown-4.5.4 inflect-6.0.2 pathtools-0.1.2 pydantic-1.10.2 sentry-sdk-1.11.1 setproctitle-1.3.2 typing-extensions-4.4.0 unidecode-1.3.6 wandb-0.13.5\n",
      "\u001b[33mWARNING: You are using pip version 21.3.1; however, version 22.3.1 is available.\n",
      "You should consider upgrading via the '/usr/local/bin/python3 -m pip install --upgrade pip' command.\u001b[0m\n"
     ]
    }
   ],
   "source": [
    "%pip install -r requirements.txt"
   ]
  },
  {
   "cell_type": "code",
   "execution_count": 17,
   "id": "886731ea",
   "metadata": {
    "cellId": "hovdckh7v3g8l9zd8leqoq"
   },
   "outputs": [
    {
     "name": "stdout",
     "output_type": "stream",
     "text": [
      "download Waveglow\n",
      "download mels\n",
      "13100\n"
     ]
    },
    {
     "name": "stderr",
     "output_type": "stream",
     "text": [
      "Downloading...\n",
      "From: https://drive.google.com/u/0/uc?id=1-EdH0t0loc6vPiuVtXdhsDtzygWNSNZx\n",
      "To: /home/jupyter/work/resources/hw3_tts/resources/train.txt\n",
      "100%|██████████| 1.32M/1.32M [00:00<00:00, 12.0MB/s]\n",
      "Downloading...\n",
      "From: https://drive.google.com/u/0/uc?id=1WsibBTsuRg_SF2Z6L6NFRTT-NjEy1oTx\n",
      "To: /home/jupyter/work/resources/hw3_tts/resources/waveglow_256channels_ljs_v2.pt\n",
      "100%|██████████| 676M/676M [00:06<00:00, 102MB/s]\n",
      "Downloading...\n",
      "From: https://drive.google.com/u/0/uc?id=1cJKJTmYd905a-9GFoo5gKjzhKjUVj83j\n",
      "To: /home/jupyter/work/resources/hw3_tts/resources/mel.tar.gz\n",
      "100%|██████████| 2.07G/2.07G [00:16<00:00, 125MB/s]\n"
     ]
    }
   ],
   "source": [
    "!python3 bin/download.py -c datasphere"
   ]
  },
  {
   "cell_type": "code",
   "execution_count": 22,
   "id": "2f7c3977",
   "metadata": {
    "cellId": "uvb9vxgnclgwldd2hzcvoj"
   },
   "outputs": [
    {
     "name": "stderr",
     "output_type": "stream",
     "text": [
      "Generating profiles: 100%|██████████| 13100/13100 [01:10<00:00, 185.74it/s]\n"
     ]
    }
   ],
   "source": [
    "!python3 bin/preprocess_pitch.py -c datasphere"
   ]
  },
  {
   "cell_type": "code",
   "execution_count": 38,
   "id": "4895c177",
   "metadata": {
    "cellId": "oqlcnj0t6ojjfmdmd4m5"
   },
   "outputs": [
    {
     "name": "stdout",
     "output_type": "stream",
     "text": [
      "cost 84.73s to load all data into buffer.\n"
     ]
    },
    {
     "name": "stderr",
     "output_type": "stream",
     "text": [
      "Buffering: 100%|██████████| 13100/13100 [01:24<00:00, 154.61it/s]\n",
      "wandb: Currently logged in as: xiyori. Use `wandb login --relogin` to force relogin\n",
      "wandb: Tracking run with wandb version 0.13.5\n",
      "wandb: Run data is saved locally in /home/jupyter/work/resources/hw3_tts/wandb/run-20221128_131811-3k6j6oa2\n",
      "wandb: Run `wandb offline` to turn off syncing.\n",
      "wandb: Resuming run rare-oath-18\n",
      "wandb: ⭐️ View project at https://wandb.ai/xiyori/fastspeech_example\n",
      "wandb: 🚀 View run at https://wandb.ai/xiyori/fastspeech_example/runs/3k6j6oa2\n",
      "5130it [1:01:24,  1.17it/s]wandb: Waiting for W&B process to finish... (success).\n",
      "wandb: | 0.004 MB of 0.004 MB uploaded (0.000 MB deduped)\n",
      "wandb: Run summary:\n",
      "wandb: train/duration_loss 0.03153\n",
      "wandb:   train/energy_loss 0.00188\n",
      "wandb:      train/mel_loss 0.33976\n",
      "wandb:    train/pitch_loss 0.43658\n",
      "wandb: train/steps_per_sec 1.39962\n",
      "wandb:    train/total_loss 0.80976\n",
      "wandb: \n",
      "wandb: Synced rare-oath-18: https://wandb.ai/xiyori/fastspeech_example/runs/3k6j6oa2\n",
      "wandb: Synced 3 W&B file(s), 0 media file(s), 0 artifact file(s) and 0 other file(s)\n",
      "wandb: Find logs at: ./wandb/run-20221128_131811-3k6j6oa2/logs\n",
      "5130it [1:01:32,  1.39it/s]"
     ]
    }
   ],
   "source": [
    "#!g1.1\n",
    "!python3 train.py -c datasphere"
   ]
  },
  {
   "cell_type": "code",
   "execution_count": null,
   "id": "b9aa938b",
   "metadata": {
    "cellId": "73h4su5c2qpsc7knifue4g"
   },
   "outputs": [],
   "source": [
    "#!g1.1\n",
    "!python3 inference.py final_model -c datasphere"
   ]
  }
 ],
 "metadata": {
  "language_info": {
   "codemirror_mode": {
    "name": "ipython",
    "version": 3
   },
   "file_extension": ".py",
   "mimetype": "text/x-python",
   "name": "python",
   "nbconvert_exporter": "python",
   "pygments_lexer": "ipython3",
   "version": "3.7.7"
  },
  "notebookId": "0c1b7d08-dfaf-4f41-baa1-8fc98640e0e1",
  "notebookPath": "hw3_tts/Untitled.ipynb"
 },
 "nbformat": 4,
 "nbformat_minor": 5
}
