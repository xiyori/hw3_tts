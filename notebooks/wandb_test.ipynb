{
 "cells": [
  {
   "cell_type": "code",
   "execution_count": 1,
   "id": "b431167c",
   "metadata": {},
   "outputs": [],
   "source": [
    "import os\n",
    "import sys\n",
    "import numpy as np\n",
    "import torch\n",
    "import torchaudio\n",
    "\n",
    "import sys\n",
    "sys.path.append(\".\")\n",
    "\n",
    "# Set working dir to project root\n",
    "while not os.getcwd().endswith(\"hw3_tts\"):\n",
    "    os.chdir(os.pardir)"
   ]
  },
  {
   "cell_type": "code",
   "execution_count": 2,
   "id": "e3777d60",
   "metadata": {},
   "outputs": [],
   "source": [
    "from src.wandb_writer import WanDBWriter"
   ]
  },
  {
   "cell_type": "code",
   "execution_count": 3,
   "id": "a5749e02",
   "metadata": {},
   "outputs": [
    {
     "data": {
      "text/plain": [
       "(torch.Size([1, 135936]), torch.float32)"
      ]
     },
     "execution_count": 3,
     "metadata": {},
     "output_type": "execute_result"
    }
   ],
   "source": [
    "wav, sr = torchaudio.load('results/sample0_a1.0.wav')\n",
    "wav.shape, wav.dtype"
   ]
  },
  {
   "cell_type": "code",
   "execution_count": 4,
   "id": "5f496052",
   "metadata": {},
   "outputs": [
    {
     "data": {
      "text/plain": [
       "(tensor(-0.9272), tensor(1.0000))"
      ]
     },
     "execution_count": 4,
     "metadata": {},
     "output_type": "execute_result"
    }
   ],
   "source": [
    "wav.min(), wav.max()"
   ]
  },
  {
   "cell_type": "code",
   "execution_count": 5,
   "id": "92fb3d25",
   "metadata": {},
   "outputs": [],
   "source": [
    "wav *= 32767"
   ]
  },
  {
   "cell_type": "code",
   "execution_count": 7,
   "id": "415934ed",
   "metadata": {},
   "outputs": [
    {
     "data": {
      "text/plain": [
       "(389, 80)"
      ]
     },
     "execution_count": 7,
     "metadata": {},
     "output_type": "execute_result"
    }
   ],
   "source": [
    "i = 10\n",
    "mel = np.load(\"C:/Users/foma/Downloads/data/mels/ljspeech-mel-%05d.npy\" % (i + 1))\n",
    "\n",
    "mel.shape"
   ]
  },
  {
   "cell_type": "code",
   "execution_count": 11,
   "id": "cd237100",
   "metadata": {},
   "outputs": [],
   "source": [
    "mel = torch.from_numpy(mel).float()"
   ]
  },
  {
   "cell_type": "code",
   "execution_count": 12,
   "id": "5ed69cda",
   "metadata": {},
   "outputs": [
    {
     "name": "stderr",
     "output_type": "stream",
     "text": [
      "\u001b[34m\u001b[1mwandb\u001b[0m: \u001b[33mWARNING\u001b[0m Calling wandb.login() after wandb.init() has no effect.\n"
     ]
    },
    {
     "data": {
      "text/html": [
       "Finishing last run (ID:9kz7liw3) before initializing another..."
      ],
      "text/plain": [
       "<IPython.core.display.HTML object>"
      ]
     },
     "metadata": {},
     "output_type": "display_data"
    },
    {
     "data": {
      "text/html": [
       "Waiting for W&B process to finish... <strong style=\"color:green\">(success).</strong>"
      ],
      "text/plain": [
       "<IPython.core.display.HTML object>"
      ]
     },
     "metadata": {},
     "output_type": "display_data"
    },
    {
     "data": {
      "application/vnd.jupyter.widget-view+json": {
       "model_id": "b52c31df01544e00b97971b79959d8b7",
       "version_major": 2,
       "version_minor": 0
      },
      "text/plain": [
       "VBox(children=(Label(value='0.261 MB of 0.261 MB uploaded (0.000 MB deduped)\\r'), FloatProgress(value=1.0, max…"
      ]
     },
     "metadata": {},
     "output_type": "display_data"
    },
    {
     "data": {
      "text/html": [
       "Synced <strong style=\"color:#cdcd00\">lemon-capybara-1</strong>: <a href=\"https://wandb.ai/xiyori/test_project/runs/9kz7liw3\" target=\"_blank\">https://wandb.ai/xiyori/test_project/runs/9kz7liw3</a><br/>Synced 6 W&B file(s), 1 media file(s), 0 artifact file(s) and 0 other file(s)"
      ],
      "text/plain": [
       "<IPython.core.display.HTML object>"
      ]
     },
     "metadata": {},
     "output_type": "display_data"
    },
    {
     "data": {
      "text/html": [
       "Find logs at: <code>.\\wandb\\run-20221128_111510-9kz7liw3\\logs</code>"
      ],
      "text/plain": [
       "<IPython.core.display.HTML object>"
      ]
     },
     "metadata": {},
     "output_type": "display_data"
    },
    {
     "data": {
      "text/html": [
       "Successfully finished last run (ID:9kz7liw3). Initializing new run:<br/>"
      ],
      "text/plain": [
       "<IPython.core.display.HTML object>"
      ]
     },
     "metadata": {},
     "output_type": "display_data"
    },
    {
     "data": {
      "application/vnd.jupyter.widget-view+json": {
       "model_id": "03f447cf9d78414d962b8ef7aa0057b4",
       "version_major": 2,
       "version_minor": 0
      },
      "text/plain": [
       "VBox(children=(Label(value='Waiting for wandb.init()...\\r'), FloatProgress(value=0.016666666666666666, max=1.0…"
      ]
     },
     "metadata": {},
     "output_type": "display_data"
    },
    {
     "data": {
      "text/html": [
       "Tracking run with wandb version 0.13.5"
      ],
      "text/plain": [
       "<IPython.core.display.HTML object>"
      ]
     },
     "metadata": {},
     "output_type": "display_data"
    },
    {
     "data": {
      "text/html": [
       "Run data is saved locally in <code>D:\\Foma\\Python\\hw3_tts\\wandb\\run-20221128_111557-24p7p5uf</code>"
      ],
      "text/plain": [
       "<IPython.core.display.HTML object>"
      ]
     },
     "metadata": {},
     "output_type": "display_data"
    },
    {
     "data": {
      "text/html": [
       "Syncing run <strong><a href=\"https://wandb.ai/xiyori/test_project/runs/24p7p5uf\" target=\"_blank\">apricot-valley-2</a></strong> to <a href=\"https://wandb.ai/xiyori/test_project\" target=\"_blank\">Weights & Biases</a> (<a href=\"https://wandb.me/run\" target=\"_blank\">docs</a>)<br/>"
      ],
      "text/plain": [
       "<IPython.core.display.HTML object>"
      ]
     },
     "metadata": {},
     "output_type": "display_data"
    }
   ],
   "source": [
    "class Config:\n",
    "    wandb_project = \"test_project\"\n",
    "\n",
    "logger = WanDBWriter(Config())\n",
    "\n",
    "logger.set_step(0)\n",
    "logger.add_audio(f\"a_sample{i}\", wav.squeeze().detach().cpu().short(), sample_rate=sr)\n",
    "logger.add_image(f\"mel_sample{i}\", torch.transpose(mel, 0, 1).detach().cpu().numpy()[::-1])"
   ]
  },
  {
   "cell_type": "code",
   "execution_count": 13,
   "id": "044ec776",
   "metadata": {},
   "outputs": [
    {
     "data": {
      "text/html": [
       "Waiting for W&B process to finish... <strong style=\"color:green\">(success).</strong>"
      ],
      "text/plain": [
       "<IPython.core.display.HTML object>"
      ]
     },
     "metadata": {},
     "output_type": "display_data"
    },
    {
     "data": {
      "application/vnd.jupyter.widget-view+json": {
       "model_id": "d960ba9d9e0b4d138cd80bee5a4eec2b",
       "version_major": 2,
       "version_minor": 0
      },
      "text/plain": [
       "VBox(children=(Label(value='0.280 MB of 0.295 MB uploaded (0.000 MB deduped)\\r'), FloatProgress(value=0.951667…"
      ]
     },
     "metadata": {},
     "output_type": "display_data"
    },
    {
     "data": {
      "text/html": [
       "Synced <strong style=\"color:#cdcd00\">apricot-valley-2</strong>: <a href=\"https://wandb.ai/xiyori/test_project/runs/24p7p5uf\" target=\"_blank\">https://wandb.ai/xiyori/test_project/runs/24p7p5uf</a><br/>Synced 5 W&B file(s), 2 media file(s), 0 artifact file(s) and 0 other file(s)"
      ],
      "text/plain": [
       "<IPython.core.display.HTML object>"
      ]
     },
     "metadata": {},
     "output_type": "display_data"
    },
    {
     "data": {
      "text/html": [
       "Find logs at: <code>.\\wandb\\run-20221128_111557-24p7p5uf\\logs</code>"
      ],
      "text/plain": [
       "<IPython.core.display.HTML object>"
      ]
     },
     "metadata": {},
     "output_type": "display_data"
    }
   ],
   "source": [
    "logger.wandb.finish()"
   ]
  }
 ],
 "metadata": {
  "kernelspec": {
   "display_name": "Python [conda env:ml]",
   "language": "python",
   "name": "conda-env-ml-py"
  },
  "language_info": {
   "codemirror_mode": {
    "name": "ipython",
    "version": 3
   },
   "file_extension": ".py",
   "mimetype": "text/x-python",
   "name": "python",
   "nbconvert_exporter": "python",
   "pygments_lexer": "ipython3",
   "version": "3.8.13"
  }
 },
 "nbformat": 4,
 "nbformat_minor": 5
}
